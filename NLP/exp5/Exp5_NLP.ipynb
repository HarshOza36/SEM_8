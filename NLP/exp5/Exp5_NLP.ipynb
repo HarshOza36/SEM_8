{
 "cells": [
  {
   "cell_type": "markdown",
   "metadata": {
    "id": "ZbBaogFRDus5"
   },
   "source": [
    "Aim : Lesk algorithm for Word Sense Disambiguation (WSD)"
   ]
  },
  {
   "cell_type": "markdown",
   "metadata": {
    "id": "meVhc7MRD2sF"
   },
   "source": [
    "#Disambiguation of word \"bank\""
   ]
  },
  {
   "cell_type": "markdown",
   "metadata": {
    "id": "1DTxwFCfEonV"
   },
   "source": [
    "##Displaying senses of word \"bank\""
   ]
  },
  {
   "cell_type": "code",
   "execution_count": 1,
   "metadata": {
    "colab": {
     "base_uri": "https://localhost:8080/"
    },
    "id": "oXrAEaZ1E23S",
    "outputId": "256487c1-ba33-4360-b75b-53fa8d5f540d"
   },
   "outputs": [
    {
     "name": "stdout",
     "output_type": "stream",
     "text": [
      "[nltk_data] Downloading package wordnet to /root/nltk_data...\n",
      "[nltk_data]   Unzipping corpora/wordnet.zip.\n",
      "[nltk_data] Downloading package punkt to /root/nltk_data...\n",
      "[nltk_data]   Unzipping tokenizers/punkt.zip.\n"
     ]
    },
    {
     "data": {
      "text/plain": [
       "True"
      ]
     },
     "execution_count": 1,
     "metadata": {
      "tags": []
     },
     "output_type": "execute_result"
    }
   ],
   "source": [
    "import nltk\n",
    "nltk.download('wordnet')\n",
    "nltk.download('punkt')"
   ]
  },
  {
   "cell_type": "code",
   "execution_count": 2,
   "metadata": {
    "colab": {
     "base_uri": "https://localhost:8080/"
    },
    "id": "qJ5wXp5gDrR1",
    "outputId": "59f240fe-591b-4391-da5c-659698556cc5"
   },
   "outputs": [
    {
     "name": "stdout",
     "output_type": "stream",
     "text": [
      "Synset('bank.n.01') sloping land (especially the slope beside a body of water)\n",
      "Synset('depository_financial_institution.n.01') a financial institution that accepts deposits and channels the money into lending activities\n",
      "Synset('bank.n.03') a long ridge or pile\n",
      "Synset('bank.n.04') an arrangement of similar objects in a row or in tiers\n",
      "Synset('bank.n.05') a supply or stock held in reserve for future use (especially in emergencies)\n",
      "Synset('bank.n.06') the funds held by a gambling house or the dealer in some gambling games\n",
      "Synset('bank.n.07') a slope in the turn of a road or track; the outside is higher than the inside in order to reduce the effects of centrifugal force\n",
      "Synset('savings_bank.n.02') a container (usually with a slot in the top) for keeping money at home\n",
      "Synset('bank.n.09') a building in which the business of banking transacted\n",
      "Synset('bank.n.10') a flight maneuver; aircraft tips laterally about its longitudinal axis (especially in turning)\n",
      "Synset('bank.v.01') tip laterally\n",
      "Synset('bank.v.02') enclose with a bank\n",
      "Synset('bank.v.03') do business with a bank or keep an account at a bank\n",
      "Synset('bank.v.04') act as the banker in a game or in gambling\n",
      "Synset('bank.v.05') be in the banking business\n",
      "Synset('deposit.v.02') put into a bank account\n",
      "Synset('bank.v.07') cover with ashes so to control the rate of burning\n",
      "Synset('trust.v.01') have confidence or faith in\n"
     ]
    }
   ],
   "source": [
    "from nltk.corpus import wordnet as wn\n",
    "for ss in wn.synsets('bank'):\n",
    "  print(ss, ss.definition())"
   ]
  },
  {
   "cell_type": "markdown",
   "metadata": {
    "id": "S03YF2DtG4GF"
   },
   "source": [
    "##Identifying the correct sense of word \"bank\" in a sentence using Lesk algorithm"
   ]
  },
  {
   "cell_type": "code",
   "execution_count": 3,
   "metadata": {
    "colab": {
     "base_uri": "https://localhost:8080/"
    },
    "id": "gpfKWa4DFB85",
    "outputId": "11e2078c-e560-462a-b958-d31f89517131"
   },
   "outputs": [
    {
     "name": "stdout",
     "output_type": "stream",
     "text": [
      "Synset('savings_bank.n.02')\n"
     ]
    }
   ],
   "source": [
    "from nltk.wsd import lesk\n",
    "text=\"I went to the bank to deposit money\"\n",
    "from nltk.tokenize import word_tokenize\n",
    "sent = word_tokenize(text)\n",
    "print(lesk(sent, 'bank'))"
   ]
  },
  {
   "cell_type": "code",
   "execution_count": 4,
   "metadata": {
    "colab": {
     "base_uri": "https://localhost:8080/"
    },
    "id": "lMzPg77JGKUQ",
    "outputId": "46285723-6caf-4cd4-a862-6156be3fae21"
   },
   "outputs": [
    {
     "name": "stdout",
     "output_type": "stream",
     "text": [
      "Synset('bank.n.01')\n"
     ]
    }
   ],
   "source": [
    "text=\"A bank is the land alongside a body of water.\"\n",
    "from nltk.tokenize import word_tokenize\n",
    "sent = word_tokenize(text)\n",
    "print(lesk(sent, 'bank'))"
   ]
  },
  {
   "cell_type": "markdown",
   "metadata": {
    "id": "MhvgkHHoHc0Y"
   },
   "source": [
    "Identify another two examples of ambiguous words and show its different word \n",
    "sense"
   ]
  },
  {
   "cell_type": "code",
   "execution_count": 5,
   "metadata": {
    "colab": {
     "base_uri": "https://localhost:8080/"
    },
    "id": "f-MHH-if9i43",
    "outputId": "8a5beb62-4400-4838-aee4-6402dcd0d498"
   },
   "outputs": [
    {
     "name": "stdout",
     "output_type": "stream",
     "text": [
      "Synset('dark.n.01') absence of light or illumination\n",
      "Synset('iniquity.n.01') absence of moral or spiritual values\n",
      "Synset('darkness.n.02') an unilluminated area\n",
      "Synset('night.n.01') the time after sunset and before sunrise while it is dark outside\n",
      "Synset('dark.n.05') an unenlightened state\n",
      "Synset('dark.a.01') devoid of or deficient in light or brightness; shadowed or black\n",
      "Synset('dark.a.02') (used of color) having a dark hue\n",
      "Synset('dark.s.03') brunet (used of hair or skin or eyes)\n",
      "Synset('black.s.05') stemming from evil characteristics or forces; wicked or dishonorable\n",
      "Synset('dark.s.05') secret\n",
      "Synset('dark.s.06') showing a brooding ill humor\n",
      "Synset('benighted.s.02') lacking enlightenment or knowledge or culture\n",
      "Synset('dark.s.08') marked by difficulty of style or expression\n",
      "Synset('blue.s.08') causing dejection\n",
      "Synset('colored.s.02') having skin rich in melanin pigments\n",
      "Synset('dark.s.11') not giving performances; closed\n"
     ]
    }
   ],
   "source": [
    "from nltk.corpus import wordnet as wn\n",
    "for ss in wn.synsets('dark'):\n",
    "  print(ss, ss.definition())"
   ]
  },
  {
   "cell_type": "code",
   "execution_count": 8,
   "metadata": {
    "colab": {
     "base_uri": "https://localhost:8080/"
    },
    "id": "LyUB4MYr-7YX",
    "outputId": "61f43841-9edd-4d8d-9436-0ca541b616f8"
   },
   "outputs": [
    {
     "name": "stdout",
     "output_type": "stream",
     "text": [
      "Synset('night.n.01')\n"
     ]
    }
   ],
   "source": [
    "text=\"That room is very dark.\"\n",
    "sent = word_tokenize(text)\n",
    "print(lesk(sent, 'dark'))"
   ]
  },
  {
   "cell_type": "code",
   "execution_count": 6,
   "metadata": {
    "colab": {
     "base_uri": "https://localhost:8080/"
    },
    "id": "3ez4ePW1-1OR",
    "outputId": "17391354-3619-4cb8-9fb0-0234de2c4e32"
   },
   "outputs": [
    {
     "name": "stdout",
     "output_type": "stream",
     "text": [
      "Synset('night.n.01')\n"
     ]
    }
   ],
   "source": [
    "text=\"This book has such dark humour.\"\n",
    "sent = word_tokenize(text)\n",
    "print(lesk(sent, 'dark'))"
   ]
  }
 ],
 "metadata": {
  "colab": {
   "collapsed_sections": [],
   "name": "64_BECMPNA_Exp5_NLP.ipynb",
   "provenance": []
  },
  "kernelspec": {
   "display_name": "Python 3",
   "language": "python",
   "name": "python3"
  },
  "language_info": {
   "codemirror_mode": {
    "name": "ipython",
    "version": 3
   },
   "file_extension": ".py",
   "mimetype": "text/x-python",
   "name": "python",
   "nbconvert_exporter": "python",
   "pygments_lexer": "ipython3",
   "version": "3.6.6"
  }
 },
 "nbformat": 4,
 "nbformat_minor": 1
}
