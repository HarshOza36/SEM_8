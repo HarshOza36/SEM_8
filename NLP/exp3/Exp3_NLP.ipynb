{
 "cells": [
  {
   "cell_type": "markdown",
   "metadata": {
    "id": "Iw61RAO8lf0c"
   },
   "source": [
    "Aim : To implement Next Word Prediction using Ngrams."
   ]
  },
  {
   "cell_type": "markdown",
   "metadata": {
    "id": "5BaIQANlPFdV"
   },
   "source": [
    "#Bigrams"
   ]
  },
  {
   "cell_type": "code",
   "execution_count": null,
   "metadata": {
    "id": "Bm_TZ4uLLEPl"
   },
   "outputs": [],
   "source": [
    "corpus = '''the cat is red the cat is green the cat is blue the dog is brown.\n",
    "sam is a student.'''"
   ]
  },
  {
   "cell_type": "code",
   "execution_count": null,
   "metadata": {
    "id": "3OTgTNAMLlcS"
   },
   "outputs": [],
   "source": [
    "# Writing the corpus into a text file\n",
    "with open('corpus.txt', 'w+') as f:\n",
    "    f.write(corpus)"
   ]
  },
  {
   "cell_type": "code",
   "execution_count": null,
   "metadata": {
    "id": "uwUe03wnLrO3"
   },
   "outputs": [],
   "source": [
    "import re\n",
    "from pprint import pprint"
   ]
  },
  {
   "cell_type": "code",
   "execution_count": null,
   "metadata": {
    "id": "ls0KfGxZL0nX"
   },
   "outputs": [],
   "source": [
    "def _conditional_prob(s, n):\n",
    "    return float(s.count(f'{n[0]} {n[1]}') / s.count(n[0]))"
   ]
  },
  {
   "cell_type": "code",
   "execution_count": null,
   "metadata": {
    "id": "WIZf8pCpL4vn"
   },
   "outputs": [],
   "source": [
    "def get_conditional_prob(s, ngrams):\n",
    "    conditional_prob = {}\n",
    "    for ngram in ngrams:\n",
    "        conditional_prob[ngram] = _conditional_prob(s, ngram)\n",
    "    return conditional_prob"
   ]
  },
  {
   "cell_type": "code",
   "execution_count": null,
   "metadata": {
    "id": "oeKu8RdhL5Wv"
   },
   "outputs": [],
   "source": [
    "def tokenize(corpus):\n",
    "    return [token for token in corpus.split(' ') if token != '']"
   ]
  },
  {
   "cell_type": "code",
   "execution_count": null,
   "metadata": {
    "id": "IKZTCUuIL7lP"
   },
   "outputs": [],
   "source": [
    "def get_n_grams(s, tokens, n):\n",
    "    s = s.lower()\n",
    "    \n",
    "    # Replace all none alphanumeric characters with spaces\n",
    "    s = re.sub(r'[^a-zA-Z0-9\\s]', ' ', s)\n",
    "    \n",
    "    # Use the zip function to help us generate n-grams\n",
    "    # Concatentate the tokens into ngrams and return\n",
    "    ngrams = zip(*[tokens[i:] for i in range(n)])\n",
    "    # return [\" \".join(ngram) for ngram in ngrams]\n",
    "    return list(set([ngram for ngram in ngrams]))"
   ]
  },
  {
   "cell_type": "code",
   "execution_count": null,
   "metadata": {
    "id": "EOLYu3XDL803"
   },
   "outputs": [],
   "source": [
    "def predict_next_word(s, conditional_prob, tokens, word):\n",
    "    predictions = {}\n",
    "    for token in tokens:\n",
    "        n = tuple([word, token])\n",
    "        predictions[n] = _conditional_prob(s, n)\n",
    "    return predictions"
   ]
  },
  {
   "cell_type": "code",
   "execution_count": null,
   "metadata": {
    "colab": {
     "base_uri": "https://localhost:8080/"
    },
    "id": "krR-3a8cL-MA",
    "outputId": "c7426249-694d-4056-d2a0-0896dadf54f7"
   },
   "outputs": [
    {
     "name": "stdout",
     "output_type": "stream",
     "text": [
      "Conditional Probabilities: \n",
      "{('a', 'student.'): 0.2,\n",
      " ('blue', 'the'): 1.0,\n",
      " ('brown.', 'sam'): 1.0,\n",
      " ('cat', 'is'): 1.0,\n",
      " ('dog', 'is'): 1.0,\n",
      " ('green', 'the'): 1.0,\n",
      " ('is', 'a'): 0.2,\n",
      " ('is', 'blue'): 0.2,\n",
      " ('is', 'brown.'): 0.2,\n",
      " ('is', 'green'): 0.2,\n",
      " ('is', 'red'): 0.2,\n",
      " ('red', 'the'): 1.0,\n",
      " ('sam', 'is'): 1.0,\n",
      " ('the', 'cat'): 0.75,\n",
      " ('the', 'dog'): 0.25}\n",
      "Enter a word: dog\n",
      "All predictions with probability are: \n",
      "{('dog', 'a'): 0.0,\n",
      " ('dog', 'blue'): 0.0,\n",
      " ('dog', 'brown.'): 0.0,\n",
      " ('dog', 'cat'): 0.0,\n",
      " ('dog', 'dog'): 0.0,\n",
      " ('dog', 'green'): 0.0,\n",
      " ('dog', 'is'): 1.0,\n",
      " ('dog', 'red'): 0.0,\n",
      " ('dog', 'sam'): 0.0,\n",
      " ('dog', 'student.'): 0.0,\n",
      " ('dog', 'the'): 0.0}\n"
     ]
    }
   ],
   "source": [
    "with open(r'corpus.txt', 'r') as f:\n",
    "    all_lines = f.readlines()\n",
    "corpus = ''.join([x.replace('\\n', ' ') for x in all_lines])\n",
    "n_grams = []\n",
    "tokens = []\n",
    "for line in all_lines:\n",
    "    line = line.replace('\\n', '')\n",
    "    tkns = tokenize(line)\n",
    "    for t in tkns:\n",
    "        tokens.append(t)\n",
    "    n_gram = get_n_grams(line, tokens,2)\n",
    "    for n in n_gram:\n",
    "        n_grams.append(n)\n",
    "    \n",
    "conditional_prob = get_conditional_prob(corpus, n_grams)\n",
    "print('Conditional Probabilities: '); pprint(conditional_prob)\n",
    "word = input('Enter a word: ')\n",
    "predictions = predict_next_word(corpus, conditional_prob, tokens, word)\n",
    "print('All predictions with probability are: ')\n",
    "pprint(predictions)"
   ]
  },
  {
   "cell_type": "code",
   "execution_count": null,
   "metadata": {
    "colab": {
     "base_uri": "https://localhost:8080/"
    },
    "id": "Bgq-cgOxpVMR",
    "outputId": "9a2086a1-590a-4814-ba5c-6649680613fc"
   },
   "outputs": [
    {
     "name": "stdout",
     "output_type": "stream",
     "text": [
      "Enter a word: sam\n",
      "All predictions with probability are: \n",
      "{('sam', 'a'): 0.0,\n",
      " ('sam', 'blue'): 0.0,\n",
      " ('sam', 'brown.'): 0.0,\n",
      " ('sam', 'cat'): 0.0,\n",
      " ('sam', 'dog'): 0.0,\n",
      " ('sam', 'green'): 0.0,\n",
      " ('sam', 'is'): 1.0,\n",
      " ('sam', 'red'): 0.0,\n",
      " ('sam', 'sam'): 0.0,\n",
      " ('sam', 'student.'): 0.0,\n",
      " ('sam', 'the'): 0.0}\n"
     ]
    }
   ],
   "source": [
    "word = input('Enter a word: ')\n",
    "predictions = predict_next_word(corpus, conditional_prob, tokens, word)\n",
    "print('All predictions with probability are: ')\n",
    "pprint(predictions)\n"
   ]
  },
  {
   "cell_type": "markdown",
   "metadata": {
    "id": "LMXqVWQYPyJV"
   },
   "source": [
    "#Reference for Trigram...\n",
    "https://github.com/susantabiswas/Word-Prediction-Ngram/blob/master/Knesser%20Ney.ipynb"
   ]
  },
  {
   "cell_type": "markdown",
   "metadata": {
    "id": "aGWdQIJloIkq"
   },
   "source": [
    "# Trigrams implementation"
   ]
  },
  {
   "cell_type": "code",
   "execution_count": null,
   "metadata": {
    "id": "dmX6BHw1yuWd"
   },
   "outputs": [],
   "source": [
    "def trigram_conditional_prob(s, n):\n",
    "    return float(s.count(f'{n[0]} {n[1]} {n[2]}') / s.count(f'{n[0]} {n[1]}'))"
   ]
  },
  {
   "cell_type": "code",
   "execution_count": null,
   "metadata": {
    "id": "J_0FmR7Jk9L8"
   },
   "outputs": [],
   "source": [
    "def get_conditional_prob_tri(s, ngrams):\n",
    "    conditional_prob = {}\n",
    "    for ngram in ngrams:\n",
    "        conditional_prob[ngram] = trigram_conditional_prob(s, ngram)\n",
    "    return conditional_prob"
   ]
  },
  {
   "cell_type": "code",
   "execution_count": null,
   "metadata": {
    "id": "v0DYDMaElLuH"
   },
   "outputs": [],
   "source": [
    "def predict_next_word_tri(s, conditional_prob, tokens, word):\n",
    "    predictions = {}\n",
    "    for token in tokens:\n",
    "        n = tuple([word[0],word[1], token])\n",
    "        predictions[n] = trigram_conditional_prob(s, n)\n",
    "    return predictions"
   ]
  },
  {
   "cell_type": "code",
   "execution_count": null,
   "metadata": {
    "colab": {
     "base_uri": "https://localhost:8080/"
    },
    "id": "E1NLvBodk2BQ",
    "outputId": "b1ffaa76-27db-4be9-f4ac-c369f3ca0985"
   },
   "outputs": [
    {
     "name": "stdout",
     "output_type": "stream",
     "text": [
      "Conditional Probabilities: \n",
      "{('blue', 'the', 'dog'): 1.0,\n",
      " ('brown.', 'sam', 'is'): 1.0,\n",
      " ('cat', 'is', 'blue'): 0.3333333333333333,\n",
      " ('cat', 'is', 'green'): 0.3333333333333333,\n",
      " ('cat', 'is', 'red'): 0.3333333333333333,\n",
      " ('dog', 'is', 'brown.'): 1.0,\n",
      " ('green', 'the', 'cat'): 1.0,\n",
      " ('is', 'a', 'student.'): 1.0,\n",
      " ('is', 'blue', 'the'): 1.0,\n",
      " ('is', 'brown.', 'sam'): 1.0,\n",
      " ('is', 'green', 'the'): 1.0,\n",
      " ('is', 'red', 'the'): 1.0,\n",
      " ('red', 'the', 'cat'): 1.0,\n",
      " ('sam', 'is', 'a'): 1.0,\n",
      " ('the', 'cat', 'is'): 1.0,\n",
      " ('the', 'dog', 'is'): 1.0}\n",
      "Enter two words to input the cat\n",
      "All predictions with probability are: \n",
      "{('the', 'cat', 'a'): 0.0,\n",
      " ('the', 'cat', 'blue'): 0.0,\n",
      " ('the', 'cat', 'brown.'): 0.0,\n",
      " ('the', 'cat', 'cat'): 0.0,\n",
      " ('the', 'cat', 'dog'): 0.0,\n",
      " ('the', 'cat', 'green'): 0.0,\n",
      " ('the', 'cat', 'is'): 1.0,\n",
      " ('the', 'cat', 'red'): 0.0,\n",
      " ('the', 'cat', 'sam'): 0.0,\n",
      " ('the', 'cat', 'student.'): 0.0,\n",
      " ('the', 'cat', 'the'): 0.0}\n"
     ]
    }
   ],
   "source": [
    "with open(r'corpus.txt', 'r') as f:\n",
    "    all_lines = f.readlines()\n",
    "corpus = ''.join([x.replace('\\n', ' ') for x in all_lines])\n",
    "n_grams = []\n",
    "tokens = []\n",
    "for line in all_lines:\n",
    "    line = line.replace('\\n', '')\n",
    "    tkns = tokenize(line)\n",
    "    for t in tkns:\n",
    "        tokens.append(t)\n",
    "    n_gram = get_n_grams(line, tokens,3)\n",
    "    for n in n_gram:\n",
    "        n_grams.append(n)\n",
    "    \n",
    "conditional_prob = get_conditional_prob_tri(corpus, n_grams)\n",
    "print('Conditional Probabilities: '); pprint(conditional_prob)\n",
    "word = input('Enter two words to input ').split(\" \")\n",
    "predictions = predict_next_word_tri(corpus, conditional_prob, tokens, word)\n",
    "print('All predictions with probability are: ')\n",
    "pprint(predictions)"
   ]
  }
 ],
 "metadata": {
  "colab": {
   "collapsed_sections": [],
   "name": "64_BECMPNA_Exp3_NLP.ipynb",
   "provenance": []
  },
  "kernelspec": {
   "display_name": "Python 3",
   "language": "python",
   "name": "python3"
  },
  "language_info": {
   "codemirror_mode": {
    "name": "ipython",
    "version": 3
   },
   "file_extension": ".py",
   "mimetype": "text/x-python",
   "name": "python",
   "nbconvert_exporter": "python",
   "pygments_lexer": "ipython3",
   "version": "3.6.6"
  }
 },
 "nbformat": 4,
 "nbformat_minor": 1
}
