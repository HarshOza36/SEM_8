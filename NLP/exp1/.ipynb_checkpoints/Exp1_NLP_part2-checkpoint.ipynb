{
 "cells": [
  {
   "cell_type": "markdown",
   "metadata": {
    "id": "QgcqdKpVQoGJ"
   },
   "source": [
    "Aim : To perform the various processing techniques on string in Python"
   ]
  },
  {
   "cell_type": "markdown",
   "metadata": {
    "id": "BHpMAaTyQdzf"
   },
   "source": [
    "# Part 02 - String Processing"
   ]
  },
  {
   "cell_type": "markdown",
   "metadata": {
    "id": "VG_-834wQu0Q"
   },
   "source": [
    "1. Write a Python program to calculate the length of a string.\n"
   ]
  },
  {
   "cell_type": "code",
   "execution_count": 2,
   "metadata": {
    "colab": {
     "base_uri": "https://localhost:8080/"
    },
    "id": "ky2YQNYERSII",
    "outputId": "6226e5ee-4648-4c53-85b4-872a785f160a"
   },
   "outputs": [
    {
     "name": "stdout",
     "output_type": "stream",
     "text": [
      "Enter the string to calculate its length >>>> Hello World\n",
      "11\n"
     ]
    }
   ],
   "source": [
    "def calc_len(string):\n",
    "  return len(string)\n",
    "\n",
    "string = input(\"Enter the string to calculate its length >>>> \")\n",
    "print(calc_len(string))"
   ]
  },
  {
   "cell_type": "markdown",
   "metadata": {
    "id": "9ioz9XjkQuw6"
   },
   "source": [
    "2. Write a Python program to count the number of characters in a string.\n"
   ]
  },
  {
   "cell_type": "code",
   "execution_count": 3,
   "metadata": {
    "colab": {
     "base_uri": "https://localhost:8080/"
    },
    "id": "_dm8tUWWRSzI",
    "outputId": "2326de66-db14-4fab-ebca-09c9d1861765"
   },
   "outputs": [
    {
     "name": "stdout",
     "output_type": "stream",
     "text": [
      "Enter the string to count characters >>>> Hello World\n",
      "10\n"
     ]
    }
   ],
   "source": [
    "def count_char(string):\n",
    "  return len(string.replace(\" \",\"\"))\n",
    "\n",
    "string = input(\"Enter the string to count characters >>>> \")\n",
    "print(count_char(string))"
   ]
  },
  {
   "cell_type": "markdown",
   "metadata": {
    "id": "CRxSVlB1Quup"
   },
   "source": [
    "3. Write a Python program to get a string made of the first 2 and the last 2 chars\n",
    "from a given a string. If the string length is less than 2, return instead of the\n",
    "empty string.\n"
   ]
  },
  {
   "cell_type": "code",
   "execution_count": 4,
   "metadata": {
    "colab": {
     "base_uri": "https://localhost:8080/"
    },
    "id": "jFjBHtBwRTdC",
    "outputId": "487be3cf-1118-4be5-d65e-c2862e493113"
   },
   "outputs": [
    {
     "name": "stdout",
     "output_type": "stream",
     "text": [
      "Enter the string to merge first and last 2 >>>> Hello World\n",
      "Held\n"
     ]
    }
   ],
   "source": [
    "def join_f_l_2(string):\n",
    "  if len(string) < 2:\n",
    "    return\n",
    "  else:\n",
    "    return (string[:2]+string[-2:])\n",
    "\n",
    "string = input(\"Enter the string to merge first and last 2 >>>> \")\n",
    "print(join_f_l_2(string))"
   ]
  },
  {
   "cell_type": "markdown",
   "metadata": {
    "id": "9bHpzFimQurq"
   },
   "source": [
    "4. Write a Python program to get a string from a given string where all\n",
    "occurrences of its first char have been changed to &#39;$&#39;, except the first char itself.\n"
   ]
  },
  {
   "cell_type": "code",
   "execution_count": 7,
   "metadata": {
    "colab": {
     "base_uri": "https://localhost:8080/"
    },
    "id": "sHZ_njDMRn0R",
    "outputId": "5648bdcd-825e-443d-a86e-fcae52350692"
   },
   "outputs": [
    {
     "name": "stdout",
     "output_type": "stream",
     "text": [
      "Enter the string to count characters >>>> harsh\n",
      "hars$\n"
     ]
    }
   ],
   "source": [
    "def replace_fchar_with_dollar(string):\n",
    "  string1 = string.replace(string[0], '$')  \n",
    "  return (string[0] + string1[1:]) \n",
    "\n",
    "string = input(\"Enter the string to count characters >>>> \")\n",
    "print(replace_fchar_with_dollar(string))"
   ]
  },
  {
   "cell_type": "markdown",
   "metadata": {
    "id": "t2aTmK8XQuoj"
   },
   "source": [
    "5. Write a Python program to get a single string from two given strings, separated\n",
    "by a space and swap the first two characters of each string.\n"
   ]
  },
  {
   "cell_type": "code",
   "execution_count": 10,
   "metadata": {
    "colab": {
     "base_uri": "https://localhost:8080/"
    },
    "id": "VVbuBYEwRoSE",
    "outputId": "f76ee1fb-b8ec-49f6-c17d-a5370a0a1309"
   },
   "outputs": [
    {
     "name": "stdout",
     "output_type": "stream",
     "text": [
      "Enter the two string separated by space for swap >>>> Harsh Oza\n",
      "Ozrsh Haa\n"
     ]
    }
   ],
   "source": [
    "def swap_first_two(string1,string2):\n",
    "  str1 = string2[:2] + string1[2:]\n",
    "  str2 = string1[:2] + string2[2:] \n",
    "  return (str1+\" \"+str2) \n",
    "\n",
    "string1, string2 = input(\"Enter the two string separated by space for swap >>>> \").split(\" \")\n",
    "print(swap_first_two(string1, string2))"
   ]
  },
  {
   "cell_type": "markdown",
   "metadata": {
    "id": "whykl9x0Qul7"
   },
   "source": [
    "6. Write a Python program to add &#39;ing&#39; at the end of a given string (length should\n",
    "be at least 3). If the given string already ends with &#39;ing&#39; then add &#39;ly&#39; instead. If\n",
    "the string length of the given string is less than 3, leave it unchanged.\n"
   ]
  },
  {
   "cell_type": "code",
   "execution_count": 11,
   "metadata": {
    "colab": {
     "base_uri": "https://localhost:8080/"
    },
    "id": "s5XQbpEsRo4N",
    "outputId": "de8d501d-5e10-40ba-8d68-ce9e777cf289"
   },
   "outputs": [
    {
     "name": "stdout",
     "output_type": "stream",
     "text": [
      "Enter the string >>>> Running\n",
      "Runningly\n"
     ]
    }
   ],
   "source": [
    "def add_ing(string):\n",
    "  if len(string) > 2:\n",
    "    if string[-3:] == 'ing':\n",
    "      string += 'ly'\n",
    "    else:\n",
    "      string += 'ing'\n",
    "  return string\n",
    "\n",
    "string = input(\"Enter the string >>>> \")\n",
    "print(add_ing(string))"
   ]
  },
  {
   "cell_type": "markdown",
   "metadata": {
    "id": "67TeZwuEQujG"
   },
   "source": [
    "7. Write a Python program to find the first appearance of the substring &#39;not&#39; and\n",
    "&#39;poor&#39; from a given string, if &#39;not&#39; follows the &#39;poor&#39;, replace the whole\n",
    "&#39;not&#39;...&#39;poor&#39; substring with &#39;good&#39;. Return the resulting string."
   ]
  },
  {
   "cell_type": "code",
   "execution_count": 12,
   "metadata": {
    "colab": {
     "base_uri": "https://localhost:8080/"
    },
    "id": "P3BCp8-0RpV3",
    "outputId": "41b47f59-efa0-4379-f01b-d850ef91cf04"
   },
   "outputs": [
    {
     "name": "stdout",
     "output_type": "stream",
     "text": [
      "Enter the string >>>> That guy is not poor at all\n",
      "That guy is good at all\n"
     ]
    }
   ],
   "source": [
    "def not_poor_edit(string):\n",
    "  nott = string.find('not')\n",
    "  poor = string.find('poor')\n",
    "  if (poor > nott and nott > 0 and poor > 0):\n",
    "    string = string.replace(string[nott:(poor+4)], 'good')\n",
    "    return string\n",
    "  else:\n",
    "    return string\n",
    "string = input(\"Enter the string >>>> \")\n",
    "print(not_poor_edit(string))"
   ]
  },
  {
   "cell_type": "markdown",
   "metadata": {
    "id": "d_o2BGW-Que6"
   },
   "source": [
    "8. Write a Python function that takes a list of words and returns the length of the\n",
    "longest one.\n"
   ]
  },
  {
   "cell_type": "code",
   "execution_count": 13,
   "metadata": {
    "colab": {
     "base_uri": "https://localhost:8080/"
    },
    "id": "qSGnv4GhRp65",
    "outputId": "48807003-b806-4f03-bc07-c4a8110f4cfa"
   },
   "outputs": [
    {
     "name": "stdout",
     "output_type": "stream",
     "text": [
      "Enter the words comma separated >>>> Hello,World,Python,Tendulkar,Ponting\n",
      "(9, 'Tendulkar')\n"
     ]
    }
   ],
   "source": [
    "def find_longest(str_list):\n",
    "  str_list_l = []\n",
    "  for i in str_list:\n",
    "    str_list_l.append((len(i), i))\n",
    "  str_list_l.sort()\n",
    "  return (str_list_l[-1][0], str_list_l[-1][1])\n",
    "str_list = list(map(str,input(\"Enter the words comma separated >>>> \").split(\",\")))\n",
    "print(find_longest(str_list))"
   ]
  },
  {
   "cell_type": "markdown",
   "metadata": {
    "id": "ArN6vkwhQubs"
   },
   "source": [
    "9. Write a Python program to remove the nth index character from a nonempty\n",
    "string.\n"
   ]
  },
  {
   "cell_type": "code",
   "execution_count": 18,
   "metadata": {
    "colab": {
     "base_uri": "https://localhost:8080/"
    },
    "id": "CSf01ftzRqUK",
    "outputId": "b75b78f0-c445-49f9-cf81-6e783e106317"
   },
   "outputs": [
    {
     "name": "stdout",
     "output_type": "stream",
     "text": [
      "Enter the string and the nth index separated by a space >>>> Harsh 3\n",
      "Harh\n"
     ]
    }
   ],
   "source": [
    "def remove_n(string, n):  \n",
    "  f = string[:n]   \n",
    "  l = string[n+1:]  \n",
    "  return f + l\n",
    "string, n = input(\"Enter the string and the nth index separated by a space >>>> \").split(\" \")\n",
    "print(remove_n(string, int(n)))"
   ]
  },
  {
   "cell_type": "markdown",
   "metadata": {
    "id": "fPaXcUzkQuYd"
   },
   "source": [
    "10. Write a Python program to change a given string to a new string where the first\n",
    "and last chars have been exchanged.\n"
   ]
  },
  {
   "cell_type": "code",
   "execution_count": 20,
   "metadata": {
    "colab": {
     "base_uri": "https://localhost:8080/"
    },
    "id": "LwjOY7J3Rq7P",
    "outputId": "6b490677-1508-4d1b-934e-d7dacc06af63"
   },
   "outputs": [
    {
     "name": "stdout",
     "output_type": "stream",
     "text": [
      "Enter the string >>>> Harsh Oza\n",
      "aarsh OzH\n"
     ]
    }
   ],
   "source": [
    "def replace_f_l(string):  \n",
    "  return string[-1:] + string[1:-1] + string[:1]\n",
    "string = input(\"Enter the string >>>> \")\n",
    "print(replace_f_l(string))"
   ]
  },
  {
   "cell_type": "markdown",
   "metadata": {
    "id": "PoQwtHPcQuVX"
   },
   "source": [
    "11. Write a Python program to remove the characters which have odd index values\n",
    "of a given string.\n"
   ]
  },
  {
   "cell_type": "code",
   "execution_count": 22,
   "metadata": {
    "colab": {
     "base_uri": "https://localhost:8080/"
    },
    "id": "qlU-7JrKRrhN",
    "outputId": "ea9cbf31-9554-4c3b-8e5e-0f293adda0f2"
   },
   "outputs": [
    {
     "name": "stdout",
     "output_type": "stream",
     "text": [
      "Enter the string >>>> Sachin\n",
      "Sci\n"
     ]
    }
   ],
   "source": [
    "def remove_odd_index(string):  \n",
    "  return (string[::2])\n",
    "string = input(\"Enter the string >>>> \")\n",
    "print(remove_odd_index(string))"
   ]
  },
  {
   "cell_type": "markdown",
   "metadata": {
    "id": "zTV2slW6QuJJ"
   },
   "source": [
    "12. Write a Python program to count the occurrences of each word in a given\n",
    "sentence.\n"
   ]
  },
  {
   "cell_type": "code",
   "execution_count": 26,
   "metadata": {
    "colab": {
     "base_uri": "https://localhost:8080/"
    },
    "id": "HSN3_0CJRr1n",
    "outputId": "9e645a4a-f100-4262-9326-fc28e08d9f25"
   },
   "outputs": [
    {
     "name": "stdout",
     "output_type": "stream",
     "text": [
      "Enter the string >>>> This is a sentence a sentence for apple apple\n",
      "{'This': 1, 'is': 1, 'a': 2, 'sentence': 2, 'for': 1, 'apple': 2}\n"
     ]
    }
   ],
   "source": [
    "def count_occr(string):\n",
    "  word_c = {}\n",
    "  words = string.split()\n",
    "  for i in words:\n",
    "    if i in word_c:\n",
    "      word_c[i] += 1\n",
    "    else:\n",
    "      word_c[i] = 1\n",
    "  return word_c\n",
    "string = input(\"Enter the string >>>> \")\n",
    "print(count_occr(string))"
   ]
  },
  {
   "cell_type": "markdown",
   "metadata": {
    "id": "7HbXbguKRFsk"
   },
   "source": [
    "13. Write a Python script that takes input from the user and displays that input back\n",
    "in upper and lower cases.\n"
   ]
  },
  {
   "cell_type": "code",
   "execution_count": 27,
   "metadata": {
    "colab": {
     "base_uri": "https://localhost:8080/"
    },
    "id": "LUcgx_DvRsiB",
    "outputId": "faf0332d-a8df-475e-f183-42f42d695318"
   },
   "outputs": [
    {
     "name": "stdout",
     "output_type": "stream",
     "text": [
      "Enter the string >>>> Hello\n",
      "HELLO hello\n"
     ]
    }
   ],
   "source": [
    "def get_up_low(string):\n",
    "  return(string.upper()+\" \"+string.lower())\n",
    "string = input(\"Enter the string >>>> \")\n",
    "print(get_up_low(string))"
   ]
  },
  {
   "cell_type": "markdown",
   "metadata": {
    "id": "_jo84xRcRFfs"
   },
   "source": [
    "14. Write a Python program that accepts a comma separated sequence of words as\n",
    "input and prints the unique words in sorted form (alphanumerically).\n"
   ]
  },
  {
   "cell_type": "code",
   "execution_count": 29,
   "metadata": {
    "colab": {
     "base_uri": "https://localhost:8080/"
    },
    "id": "XYI1uNSxRtMF",
    "outputId": "d6132d03-fa91-44de-b020-4f11019475f7"
   },
   "outputs": [
    {
     "name": "stdout",
     "output_type": "stream",
     "text": [
      "Enter the string >>>> hello,world,apple,world\n",
      "apple,hello,world\n"
     ]
    }
   ],
   "source": [
    "def get_unique(string):\n",
    "  words = [word for word in string.split(\",\")]\n",
    "  return (\",\".join(sorted(list(set(words)))))\n",
    "string = input(\"Enter the string >>>> \")\n",
    "print(get_unique(string))"
   ]
  },
  {
   "cell_type": "markdown",
   "metadata": {
    "id": "abE1p6yqRFcG"
   },
   "source": [
    "15. Write a Python function to create the HTML string with tags around the\n",
    "word(s)."
   ]
  },
  {
   "cell_type": "code",
   "execution_count": 30,
   "metadata": {
    "colab": {
     "base_uri": "https://localhost:8080/"
    },
    "id": "9FFj7BG8QLEA",
    "outputId": "9557d8f7-b10a-4f71-9544-0e320bd15ab3"
   },
   "outputs": [
    {
     "name": "stdout",
     "output_type": "stream",
     "text": [
      "Enter the word and tag space separated >>>> Hello h1\n",
      "<h1> Hello </h1>\n"
     ]
    }
   ],
   "source": [
    "def html_tag(tag, word):\n",
    "\treturn (f\"<{tag}> {word} </{tag}>\")\n",
    "word, tag = input(\"Enter the word and tag space separated >>>> \").split(\" \")\n",
    "print(html_tag(tag, word))"
   ]
  }
 ],
 "metadata": {
  "colab": {
   "collapsed_sections": [],
   "name": "Exp1_NLP_part2.ipynb",
   "provenance": []
  },
  "kernelspec": {
   "display_name": "Python 3",
   "language": "python",
   "name": "python3"
  },
  "language_info": {
   "codemirror_mode": {
    "name": "ipython",
    "version": 3
   },
   "file_extension": ".py",
   "mimetype": "text/x-python",
   "name": "python",
   "nbconvert_exporter": "python",
   "pygments_lexer": "ipython3",
   "version": "3.6.6"
  }
 },
 "nbformat": 4,
 "nbformat_minor": 1
}
